{
 "cells": [
  {
   "cell_type": "markdown",
   "metadata": {},
   "source": [
    "# Data Collection and Analysis Using AEPsych\n",
    "\n",
    "This tutorial serves as a complete example on how to collect and analyze data from perceptual experiments using AEPsych. For more information on AEPsych, refer to the documentation in the [GitHub repository](https://github.com/facebookresearch/aepsych). \n",
    "\n",
    "This tutorial demonstrates how to create an experiment to measure one's detection threshold for orientation. On each trial of the experiment, the participant is shown two gabor-patch stimuli, one oriented vertically (the foil) and one oriented at an angle (the target). The goal of the experiment is to find the smallest angle at which the participant can reliably identify the target. You can run the code blocks below interactively to participate in the experiment yourself, or you can simply view data collected from an example participant."
   ]
  },
  {
   "cell_type": "markdown",
   "metadata": {},
   "source": [
    "## Experiment Overview\n",
    "Below we define the functions we will need to conduct our experiment. Note that the code here is mainly for demonstration purposes and should not be used for serious experiments. If you would like to run psychophysics experiments in Python, consider using [Psychopy](https://www.psychopy.org/)."
   ]
  },
  {
   "cell_type": "code",
   "execution_count": 1,
   "metadata": {},
   "outputs": [],
   "source": [
    "import math\n",
    "\n",
    "import matplotlib.cm as cm\n",
    "import matplotlib.pyplot as plt\n",
    "import numpy as np\n",
    "import time\n",
    "from IPython.display import clear_output\n",
    "import random\n",
    "\n",
    "fig_size = 15\n",
    "\n",
    "# Show a fixation cross with a blank background\n",
    "def show_fixation_cross():\n",
    "    _, ax = plt.subplots(1, figsize=(fig_size, fig_size/2))\n",
    "    for spine in ax.spines.values():\n",
    "        spine.set_visible(False)\n",
    "    ax.tick_params(bottom=False, labelbottom=False,\n",
    "                left=False, labelleft=False)\n",
    "    ax.text(0.5, 0.5, '+', size=100,\n",
    "        horizontalalignment='center',\n",
    "        verticalalignment='center',\n",
    "        transform=ax.transAxes)\n",
    "    ax.axis('off')\n",
    "    ax.grid()\n",
    "    plt.show()\n",
    "\n",
    "# Evaluate the gabor filter function at an x,y position\n",
    "def gabor(x, y, theta):\n",
    "    f = 0.05\n",
    "    sigma = 25\n",
    "\n",
    "    x_ = x * math.cos(theta) + y * math.sin(theta)\n",
    "    y_ = y * math.cos(theta) - x * math.sin(theta)\n",
    "    num = x_ ** 2 + y_ ** 2\n",
    "    return math.exp(num / (-2 * sigma**2)) * math.cos(2 * math.pi * f * x_)\n",
    "\n",
    "# Show a gabor patch\n",
    "def show_gabor(theta, ax):\n",
    "    # The size of the gabor patch\n",
    "    radius = 60\n",
    "\n",
    "    # Convert from degrees to radians\n",
    "    theta = math.radians(theta)\n",
    "\n",
    "    M = np.array([[gabor(i, j, theta) for j in range(-radius, radius)] for i in range(-radius, radius)])\n",
    "    M = ((M - M.min())) / (M.max() - M.min())\n",
    "\n",
    "    ax.axis('off')\n",
    "    ax.grid()\n",
    "    ax.imshow(M.T, cmap=cm.Greys_r)\n",
    "\n",
    "\n",
    "def run_trial(angle, trial_number):\n",
    "    fixation_duration = 1\n",
    "    trial_duration = 0.5\n",
    "\n",
    "    # Show the fixation cross\n",
    "    show_fixation_cross()\n",
    "    time.sleep(fixation_duration)\n",
    "    clear_output(wait=True)\n",
    "\n",
    "    # randomly select if target should go on left or right side\n",
    "    right_side = random.choice([0, 1])\n",
    "\n",
    "    # randomly select if target angle should be clockwise or counterclockwise\n",
    "    direction = random.choice([-1, 1])\n",
    "    angle *= direction\n",
    "\n",
    "    # Show the foil and target\n",
    "    _, axs = plt.subplots(1, 2, figsize=(fig_size, fig_size))\n",
    "    show_gabor(angle, axs[right_side])\n",
    "    show_gabor(0, axs[int(not right_side)])\n",
    "\n",
    "    # Ask for the participant's response\n",
    "    ans = None\n",
    "    ans_key = {'j': 1, 'J': 1, 'f': 0, 'F': 0}\n",
    "    while ans not in ans_key:\n",
    "        plt.show()\n",
    "        time.sleep(trial_duration)\n",
    "        clear_output()\n",
    "        ans = input(f\"Trial #{trial_number}: Which side was angled? (Enter 'F' for left or 'J' for right)\")\n",
    "\n",
    "    # Check if the response was correct\n",
    "    is_correct = int(ans_key[ans] == right_side)\n",
    "    target_side = \"right\" if right_side else \"left\"\n",
    "    \n",
    "    return is_correct, target_side\n"
   ]
  },
  {
   "cell_type": "markdown",
   "metadata": {},
   "source": [
    "On each trial of the experiment, the participant will first see a white box with fixation cross for 1 second. The box looks like this:"
   ]
  },
  {
   "cell_type": "code",
   "execution_count": 2,
   "metadata": {},
   "outputs": [
    {
     "data": {
      "image/png": "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",
      "text/plain": [
       "<Figure size 1080x540 with 1 Axes>"
      ]
     },
     "metadata": {},
     "output_type": "display_data"
    }
   ],
   "source": [
    "show_fixation_cross()"
   ]
  },
  {
   "cell_type": "markdown",
   "metadata": {},
   "source": [
    "After 1 second, the fixation cross will disappear, and two gabor patches will appear side-by-side. One patch will be the foil with a vertical orientation, and one will be the target with an angled orientation. The position of the target and whether the angle is measured clockwise or counterclockwise is randomized each trial. An example foil and target are shown below:"
   ]
  },
  {
   "cell_type": "code",
   "execution_count": 3,
   "metadata": {},
   "outputs": [
    {
     "data": {
      "image/png": "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",
      "text/plain": [
       "<Figure size 1080x1080 with 2 Axes>"
      ]
     },
     "metadata": {
      "needs_background": "light"
     },
     "output_type": "display_data"
    }
   ],
   "source": [
    "_, axs = plt.subplots(1, 2, figsize=(fig_size, fig_size))\n",
    "show_gabor(0, axs[0])\n",
    "show_gabor(5, axs[1])"
   ]
  },
  {
   "cell_type": "markdown",
   "metadata": {},
   "source": [
    "After 0.5 seconds, the patches will disappear, and the participant will be prompted to report which one was the target by typing \"F\" for left or \"J\" for right, and then hitting enter. Try running the code block below to experience a trial for yourself. The `run_trial` function takes an angle and a trial number as input and returns whether or not you were correct (1 for correct, 0 for incorrect), as well as the side which the target was actually on. "
   ]
  },
  {
   "cell_type": "code",
   "execution_count": 4,
   "metadata": {},
   "outputs": [
    {
     "name": "stdout",
     "output_type": "stream",
     "text": [
      "Trial #0: Which side was angled? (Enter 'F' for left or 'J' for right)j\n"
     ]
    },
    {
     "data": {
      "text/plain": [
       "(1, 'right')"
      ]
     },
     "execution_count": 4,
     "metadata": {},
     "output_type": "execute_result"
    }
   ],
   "source": [
    "run_trial(5, 0)"
   ]
  },
  {
   "cell_type": "markdown",
   "metadata": {},
   "source": [
    "## Starting the AEPsych Server and Client\n",
    "The code block below starts an AEPsychClient and connects it to a local AEPsychServer. The data will be saved in a database named \"data_collection_analysis_tutorial.db\"."
   ]
  },
  {
   "cell_type": "code",
   "execution_count": null,
   "metadata": {},
   "outputs": [],
   "source": [
    "from aepsych.server import AEPsychServer\n",
    "from aepsych_client import AEPsychClient\n",
    "\n",
    "server = AEPsychServer(database_path=\"data_collection_analysis_tutorial.db\")\n",
    "client = AEPsychClient(server=server)"
   ]
  },
  {
   "cell_type": "markdown",
   "metadata": {},
   "source": [
    "Alternatively, you can also connect to a remote server by specifying a port and the IP address, as demonstrated below. The server could even be instantiated in a different Python process or on a different machine as the client."
   ]
  },
  {
   "cell_type": "markdown",
   "id": "1a3640e3",
   "metadata": {},
   "source": [
    "```Python\n",
    "from aepsych_client import AEPsychClient\n",
    "from aepsych.server import AEPsychServer\n",
    "ip = \"0.0.0.0\"\n",
    "port = 5555\n",
    "server = AEPsychServer(port, ip)\n",
    "client = AEPsychClient(server=server)\n",
    "```"
   ]
  },
  {
   "cell_type": "markdown",
   "metadata": {},
   "source": [
    "We tell the server what kind of experiment we are running by sending it a configure message (see the [configs folder](https://github.com/facebookresearch/aepsych/tree/main/configs) for some examples. The gist of the config here is that it is telling the server that our experiment will have one parameter called \"angle\", which will range from 0.1 to 5 degrees. (If you run this experiment on yourself and find that this range of angles makes the experiment too easy or too hard, you can adjust the `lb` and `ub` values in the string below). This experiment will last for 50 trials. The parameter values from the first 10 trials will be drawn from the [Sobol sequence](https://en.wikipedia.org/wiki/Sobol_sequence), to provide some initial data to initialize AEPsych's model; the following 40 trials will be drawn from that model. In this case, the model will be a classification [Gaussian Process](https://en.wikipedia.org/wiki/Gaussian_process) (GP). \n",
    "\n",
    "GPs can be thought of as generalizations of traditional psychophysics models that can handle multiple dimensions and allow the response function to be nonlinear (for further discussion see the [AEPsych preprint](https://arxiv.org/abs/2104.09549)). Furthermore, GPs can be used in conjunction with acquisition functions to perform [active learning](https://en.wikipedia.org/wiki/Active_learning_(machine_learning)--that is, the model can determine which points in the parameter space should be sampled next to achieve some goal. In this case we use the [level set estimation](https://www.ijcai.org/Proceedings/13/Papers/202.pdf) function to find the angle at which the participant will correctly identify the target 75% of the time. \n",
    "\n",
    "GPs are defined by a mean function and covariance function. Because we don't define what these functions should be in the config, they revert to their default values of a constant mean function, and a [radial basis covariance function](https://en.wikipedia.org/wiki/Radial_basis_function). These functions are fine for parameter space we want to explore here, but if we wanted to expand our search across a larger range of angles, we would probably want to use a periodic covariance function to account for that fact that angles loop every 360 degrees."
   ]
  },
  {
   "cell_type": "code",
   "execution_count": 7,
   "metadata": {},
   "outputs": [],
   "source": [
    "config_str = \"\"\"\n",
    "[common]\n",
    "parnames = [theta] # names of the parameters\n",
    "lb = [0.1] # lower bound of the parameter\n",
    "ub = [5] # upper bound of parameter\n",
    "stimuli_per_trial = 1 # the number of stimuli shown in each trial; 1 for single, or 2 for pairwise experiments\n",
    "outcome_types = [binary] # the type of response given by the participant; can be [binary] or [continuous]\n",
    "target = 0.75 # desired threshold, for threshold estimation.\n",
    "strategy_names = [init_strat, opt_strat] # The strategies that will be used, corresponding to the named sections below\n",
    "\n",
    "# Configuration for the initialization strategy, which we use to gather initial points\n",
    "# before we start doing model-based acquisition\n",
    "[init_strat]\n",
    "min_total_tells = 10 # number of sobol trials to run\n",
    "generator = SobolGenerator # The generator class used to generate new parameter values\n",
    "\n",
    "# Configuration for the optimization strategy, our model-based acquisition\n",
    "[opt_strat]\n",
    "min_total_tells = 50 # total number of trials to run\n",
    "refit_every = 5 # how often to refit the model from scratch\n",
    "generator = OptimizeAcqfGenerator # The generator class used to generate new parameter values\n",
    "acqf = MCLevelSetEstimation # The acquisition function; MCLevelSetEstimation is used for threshold finding\n",
    "model = GPClassificationModel # The model class\n",
    "\"\"\"\n",
    "\n",
    "client.configure(config_str=config_str, config_name=\"1d_gabor_config\")"
   ]
  },
  {
   "cell_type": "markdown",
   "metadata": {},
   "source": [
    "Now that we have set up our client and configured our server, we can start collecting data. The basic loop of the experiment is as follows:\n",
    "\n",
    "1. Ask AEPsych what value of our parameter, angle, to try next.\n",
    "2. Run a trial using this suggested value.\n",
    "3. Tell AEPsych the particant's response so that it can update its model.\n",
    "4. Repeat for the specified number of trials.\n",
    "\n",
    "We ask AEPsych for parameters by calling client.ask(). This returns a dictionary with two entries. The first, `'config'`, contains another dictionary whose keys are the names of your parameters, and whose values are lists of parameter values to try. The second, `'is_finished'`, is a bool indicating whether the number of trials specified in the config have been completed."
   ]
  },
  {
   "cell_type": "code",
   "execution_count": 8,
   "metadata": {},
   "outputs": [
    {
     "data": {
      "text/plain": [
       "{'config': {'theta': [4.762862205505371]}, 'is_finished': False}"
      ]
     },
     "execution_count": 8,
     "metadata": {},
     "output_type": "execute_result"
    }
   ],
   "source": [
    "client.ask()"
   ]
  },
  {
   "cell_type": "markdown",
   "metadata": {},
   "source": [
    "We tell AEPsych about the parameter values we have tried by calling client.tell(). This method has two required arguments. The first, config, is a dictionary representing the set of parameter values you would like to tell AEPsych about, and takes the same format as the 'config' entry from client.ask(). The second argument is the binary outcome of a trial, indicated by 0 (the participant did not identify the target) or 1 (the participant did identify the target). This method also optionally takes other keyword arguments that will be stored as metadata in AEPsych's database. For our experiment, we will record which side the target was on."
   ]
  },
  {
   "cell_type": "code",
   "execution_count": 9,
   "metadata": {},
   "outputs": [],
   "source": [
    "client.tell(config={'theta':[.1]}, outcome=0, target_side='right')"
   ]
  },
  {
   "cell_type": "markdown",
   "metadata": {},
   "source": [
    "The code below asks AEPsych for parameter values and runs trials until the experiment is completed:"
   ]
  },
  {
   "cell_type": "code",
   "execution_count": 10,
   "metadata": {},
   "outputs": [
    {
     "name": "stdout",
     "output_type": "stream",
     "text": [
      "Trial #49: Which side was angled? (Enter 'F' for left or 'J' for right)j\n"
     ]
    }
   ],
   "source": [
    "finished = False\n",
    "trial_number = 1\n",
    "while not finished:\n",
    "    response = client.ask()\n",
    "    theta = response[\"config\"][\"theta\"][0]\n",
    "    outcome, target_side = run_trial(theta, trial_number)\n",
    "    client.tell(config={\"theta\": [theta]}, outcome=outcome, target_side=target_side)\n",
    "    finished = response[\"is_finished\"]\n",
    "    trial_number += 1"
   ]
  },
  {
   "cell_type": "markdown",
   "metadata": {},
   "source": [
    "Note that even after the number of trials specified in the config have completed, you can still ask for more parameter values and conduct more trials:"
   ]
  },
  {
   "cell_type": "code",
   "execution_count": 11,
   "metadata": {},
   "outputs": [
    {
     "data": {
      "text/plain": [
       "{'config': {'theta': [0.713981026117474]}, 'is_finished': True}"
      ]
     },
     "execution_count": 11,
     "metadata": {},
     "output_type": "execute_result"
    }
   ],
   "source": [
    "client.ask()"
   ]
  },
  {
   "cell_type": "markdown",
   "metadata": {},
   "source": [
    "You are also not restricted to only using the parameter values that AEPsych suggests. You can tell it the outcome of any parameter values that you would like:"
   ]
  },
  {
   "cell_type": "code",
   "execution_count": 12,
   "metadata": {},
   "outputs": [],
   "source": [
    "client.tell(config={'theta':[5]}, outcome=1, target_side='left')"
   ]
  },
  {
   "cell_type": "markdown",
   "metadata": {},
   "source": [
    "Once you are done collecting data, you can close the server by calling `client.finalize()`"
   ]
  },
  {
   "cell_type": "code",
   "execution_count": 13,
   "metadata": {},
   "outputs": [],
   "source": [
    "client.finalize()"
   ]
  },
  {
   "cell_type": "markdown",
   "metadata": {},
   "source": [
    "## Replaying the Experiment and Analyzing Data\n",
    "To analyze the data, we open the database with an `AEPsychServer` object. We'll create a new server object, since the one we used earlier was closed by the client."
   ]
  },
  {
   "cell_type": "code",
   "execution_count": 14,
   "metadata": {},
   "outputs": [
    {
     "name": "stderr",
     "output_type": "stream",
     "text": [
      "2022-02-25 14:47:38,501 [INFO   ] Found DB at jnd_tutorial.db, appending!\n"
     ]
    }
   ],
   "source": [
    "serv = AEPsychServer(database_path=\"data_collection_analysis_tutorial.db\")"
   ]
  },
  {
   "cell_type": "markdown",
   "metadata": {},
   "source": [
    "The database is made of a set of experiments, which have unique experiment UUIDs. Every time the server is started (e.g. from the command line), a new experiment id is generated. For a list of all experiment ids:"
   ]
  },
  {
   "cell_type": "code",
   "execution_count": 15,
   "metadata": {},
   "outputs": [
    {
     "name": "stdout",
     "output_type": "stream",
     "text": [
      "['c03faaac-09b4-4f90-9b7a-5089fa556b81', 'fe51610b-cf16-4139-8a31-77637fb1a089']\n"
     ]
    }
   ],
   "source": [
    "exp_ids = [rec.experiment_id for rec in serv.db.get_master_records()]\n",
    "print(exp_ids)"
   ]
  },
  {
   "cell_type": "markdown",
   "metadata": {},
   "source": [
    "The above indicates that there is only 1 experiment_id in this database.\n",
    "\n",
    "Note that the above commands do not actually load any of the experiment data from the database. The data is only loaded when you run serv.replay to replay all of the setup, ask, and tell messages that are recorded in the database. We will pass skip_computations = True to this method to skip all of the model-fitting computations and make the replay finish faster."
   ]
  },
  {
   "cell_type": "code",
   "execution_count": 16,
   "metadata": {},
   "outputs": [
    {
     "name": "stderr",
     "output_type": "stream",
     "text": [
      "2022-02-25 14:47:45,264 [INFO   ] skip_computations=True, make sure to refit the final strat before doing anything!\n",
      "2022-02-25 14:47:45,298 [INFO   ] Received msg [setup]\n",
      "2022-02-25 14:47:45,301 [INFO   ] Request type is ask or query and skip_computations==True, skipping!\n",
      "2022-02-25 14:47:45,303 [INFO   ] Received msg [tell]\n",
      "2022-02-25 14:47:45,305 [INFO   ] Request type is ask or query and skip_computations==True, skipping!\n",
      "2022-02-25 14:47:45,306 [INFO   ] Received msg [tell]\n",
      "2022-02-25 14:47:45,308 [INFO   ] Request type is ask or query and skip_computations==True, skipping!\n",
      "2022-02-25 14:47:45,309 [INFO   ] Received msg [tell]\n",
      "2022-02-25 14:47:45,327 [INFO   ] Request type is ask or query and skip_computations==True, skipping!\n",
      "2022-02-25 14:47:45,329 [INFO   ] Received msg [tell]\n",
      "2022-02-25 14:47:45,330 [INFO   ] Request type is ask or query and skip_computations==True, skipping!\n",
      "2022-02-25 14:47:45,332 [INFO   ] Received msg [tell]\n",
      "2022-02-25 14:47:45,333 [INFO   ] Request type is ask or query and skip_computations==True, skipping!\n",
      "2022-02-25 14:47:45,335 [INFO   ] Received msg [tell]\n",
      "2022-02-25 14:47:45,336 [INFO   ] Request type is ask or query and skip_computations==True, skipping!\n",
      "2022-02-25 14:47:45,337 [INFO   ] Received msg [tell]\n",
      "2022-02-25 14:47:45,339 [INFO   ] Request type is ask or query and skip_computations==True, skipping!\n",
      "2022-02-25 14:47:45,340 [INFO   ] Received msg [tell]\n",
      "2022-02-25 14:47:45,342 [INFO   ] Request type is ask or query and skip_computations==True, skipping!\n",
      "2022-02-25 14:47:45,343 [INFO   ] Received msg [tell]\n",
      "2022-02-25 14:47:45,344 [INFO   ] Request type is ask or query and skip_computations==True, skipping!\n",
      "2022-02-25 14:47:45,346 [INFO   ] Received msg [tell]\n",
      "2022-02-25 14:47:45,347 [INFO   ] Request type is ask or query and skip_computations==True, skipping!\n",
      "2022-02-25 14:47:45,349 [INFO   ] Received msg [tell]\n",
      "2022-02-25 14:47:45,351 [INFO   ] Request type is ask or query and skip_computations==True, skipping!\n",
      "2022-02-25 14:47:45,352 [INFO   ] Received msg [tell]\n",
      "2022-02-25 14:47:45,354 [INFO   ] Request type is ask or query and skip_computations==True, skipping!\n",
      "2022-02-25 14:47:45,355 [INFO   ] Received msg [tell]\n",
      "2022-02-25 14:47:45,357 [INFO   ] Request type is ask or query and skip_computations==True, skipping!\n",
      "2022-02-25 14:47:45,359 [INFO   ] Received msg [tell]\n",
      "2022-02-25 14:47:45,360 [INFO   ] Request type is ask or query and skip_computations==True, skipping!\n",
      "2022-02-25 14:47:45,378 [INFO   ] Received msg [tell]\n",
      "2022-02-25 14:47:45,379 [INFO   ] Request type is ask or query and skip_computations==True, skipping!\n",
      "2022-02-25 14:47:45,381 [INFO   ] Received msg [tell]\n",
      "2022-02-25 14:47:45,383 [INFO   ] Request type is ask or query and skip_computations==True, skipping!\n",
      "2022-02-25 14:47:45,385 [INFO   ] Received msg [tell]\n",
      "2022-02-25 14:47:45,386 [INFO   ] Request type is ask or query and skip_computations==True, skipping!\n",
      "2022-02-25 14:47:45,388 [INFO   ] Received msg [tell]\n",
      "2022-02-25 14:47:45,390 [INFO   ] Request type is ask or query and skip_computations==True, skipping!\n",
      "2022-02-25 14:47:45,391 [INFO   ] Received msg [tell]\n",
      "2022-02-25 14:47:45,393 [INFO   ] Request type is ask or query and skip_computations==True, skipping!\n",
      "2022-02-25 14:47:45,394 [INFO   ] Received msg [tell]\n",
      "2022-02-25 14:47:45,395 [INFO   ] Request type is ask or query and skip_computations==True, skipping!\n",
      "2022-02-25 14:47:45,397 [INFO   ] Received msg [tell]\n",
      "2022-02-25 14:47:45,399 [INFO   ] Request type is ask or query and skip_computations==True, skipping!\n",
      "2022-02-25 14:47:45,400 [INFO   ] Received msg [tell]\n",
      "2022-02-25 14:47:45,402 [INFO   ] Request type is ask or query and skip_computations==True, skipping!\n",
      "2022-02-25 14:47:45,403 [INFO   ] Received msg [tell]\n",
      "2022-02-25 14:47:45,405 [INFO   ] Request type is ask or query and skip_computations==True, skipping!\n",
      "2022-02-25 14:47:45,406 [INFO   ] Received msg [tell]\n",
      "2022-02-25 14:47:45,408 [INFO   ] Request type is ask or query and skip_computations==True, skipping!\n",
      "2022-02-25 14:47:45,409 [INFO   ] Received msg [tell]\n",
      "2022-02-25 14:47:45,427 [INFO   ] Request type is ask or query and skip_computations==True, skipping!\n",
      "2022-02-25 14:47:45,429 [INFO   ] Received msg [tell]\n",
      "2022-02-25 14:47:45,431 [INFO   ] Request type is ask or query and skip_computations==True, skipping!\n",
      "2022-02-25 14:47:45,432 [INFO   ] Received msg [tell]\n",
      "2022-02-25 14:47:45,434 [INFO   ] Request type is ask or query and skip_computations==True, skipping!\n",
      "2022-02-25 14:47:45,435 [INFO   ] Received msg [tell]\n",
      "2022-02-25 14:47:45,437 [INFO   ] Request type is ask or query and skip_computations==True, skipping!\n",
      "2022-02-25 14:47:45,438 [INFO   ] Received msg [tell]\n",
      "2022-02-25 14:47:45,440 [INFO   ] Request type is ask or query and skip_computations==True, skipping!\n",
      "2022-02-25 14:47:45,441 [INFO   ] Received msg [tell]\n",
      "2022-02-25 14:47:45,442 [INFO   ] Request type is ask or query and skip_computations==True, skipping!\n",
      "2022-02-25 14:47:45,444 [INFO   ] Received msg [tell]\n",
      "2022-02-25 14:47:45,445 [INFO   ] Request type is ask or query and skip_computations==True, skipping!\n",
      "2022-02-25 14:47:45,447 [INFO   ] Received msg [tell]\n",
      "2022-02-25 14:47:45,449 [INFO   ] Request type is ask or query and skip_computations==True, skipping!\n",
      "2022-02-25 14:47:45,450 [INFO   ] Received msg [tell]\n",
      "2022-02-25 14:47:45,452 [INFO   ] Request type is ask or query and skip_computations==True, skipping!\n",
      "2022-02-25 14:47:45,453 [INFO   ] Received msg [tell]\n",
      "2022-02-25 14:47:45,454 [INFO   ] Request type is ask or query and skip_computations==True, skipping!\n",
      "2022-02-25 14:47:45,455 [INFO   ] Received msg [tell]\n",
      "2022-02-25 14:47:45,457 [INFO   ] Request type is ask or query and skip_computations==True, skipping!\n",
      "2022-02-25 14:47:45,458 [INFO   ] Received msg [tell]\n",
      "2022-02-25 14:47:45,460 [INFO   ] Request type is ask or query and skip_computations==True, skipping!\n",
      "2022-02-25 14:47:45,478 [INFO   ] Received msg [tell]\n",
      "2022-02-25 14:47:45,479 [INFO   ] Request type is ask or query and skip_computations==True, skipping!\n",
      "2022-02-25 14:47:45,480 [INFO   ] Received msg [tell]\n",
      "2022-02-25 14:47:45,482 [INFO   ] Request type is ask or query and skip_computations==True, skipping!\n",
      "2022-02-25 14:47:45,483 [INFO   ] Received msg [tell]\n",
      "2022-02-25 14:47:45,485 [INFO   ] Request type is ask or query and skip_computations==True, skipping!\n",
      "2022-02-25 14:47:45,486 [INFO   ] Received msg [tell]\n",
      "2022-02-25 14:47:45,487 [INFO   ] Request type is ask or query and skip_computations==True, skipping!\n",
      "2022-02-25 14:47:45,489 [INFO   ] Received msg [tell]\n",
      "2022-02-25 14:47:45,490 [INFO   ] Request type is ask or query and skip_computations==True, skipping!\n",
      "2022-02-25 14:47:45,491 [INFO   ] Received msg [tell]\n",
      "2022-02-25 14:47:45,492 [INFO   ] Request type is ask or query and skip_computations==True, skipping!\n",
      "2022-02-25 14:47:45,494 [INFO   ] Received msg [tell]\n",
      "2022-02-25 14:47:45,495 [INFO   ] Request type is ask or query and skip_computations==True, skipping!\n",
      "2022-02-25 14:47:45,496 [INFO   ] Received msg [tell]\n",
      "2022-02-25 14:47:45,498 [INFO   ] Request type is ask or query and skip_computations==True, skipping!\n",
      "2022-02-25 14:47:45,500 [INFO   ] Received msg [tell]\n",
      "2022-02-25 14:47:45,502 [INFO   ] Request type is ask or query and skip_computations==True, skipping!\n",
      "2022-02-25 14:47:45,503 [INFO   ] Received msg [tell]\n",
      "2022-02-25 14:47:45,504 [INFO   ] Request type is ask or query and skip_computations==True, skipping!\n",
      "2022-02-25 14:47:45,506 [INFO   ] Received msg [tell]\n",
      "2022-02-25 14:47:45,507 [INFO   ] Request type is ask or query and skip_computations==True, skipping!\n",
      "2022-02-25 14:47:45,508 [INFO   ] Received msg [tell]\n",
      "2022-02-25 14:47:45,509 [INFO   ] Request type is ask or query and skip_computations==True, skipping!\n",
      "2022-02-25 14:47:45,510 [INFO   ] Received msg [tell]\n",
      "2022-02-25 14:47:45,528 [INFO   ] Request type is ask or query and skip_computations==True, skipping!\n",
      "/Users/craigsanders/fbsource/fbcode/frl/ae/aepsych/aepsych/strategy.py:226: RuntimeWarning: Ran out of generators, staying on final generator!\n",
      "  warnings.warn(\n",
      "2022-02-25 14:47:45,530 [INFO   ] Received msg [tell]\n",
      "2022-02-25 14:47:45,531 [INFO   ] Recording strat because the experiment is complete.\n"
     ]
    },
    {
     "name": "stderr",
     "output_type": "stream",
     "text": [
      "2022-02-25 14:47:45,551 [INFO   ] Request type is ask or query and skip_computations==True, skipping!\n",
      "2022-02-25 14:47:45,553 [INFO   ] Received msg [tell]\n",
      "2022-02-25 14:47:45,554 [INFO   ] Recording strat because the experiment is complete.\n"
     ]
    }
   ],
   "source": [
    "serv.replay(exp_ids[-1], skip_computations=True)"
   ]
  },
  {
   "cell_type": "markdown",
   "metadata": {},
   "source": [
    "The data has been loaded into the servers list of strategies, which we can access through `serv._strats`. Per our config string, we have two strategies, the first being the model-less initialization strategy, and the second being the model-based threshold-finding strategy. We can see the model-based strategy's data using its `x` and `y` properties:"
   ]
  },
  {
   "cell_type": "code",
   "execution_count": 17,
   "metadata": {},
   "outputs": [
    {
     "name": "stdout",
     "output_type": "stream",
     "text": [
      "tensor([[0.1000],\n",
      "        [0.3796],\n",
      "        [1.4404],\n",
      "        [3.6793],\n",
      "        [3.0114],\n",
      "        [2.0354],\n",
      "        [0.9710],\n",
      "        [4.0913],\n",
      "        [3.8336],\n",
      "        [1.2873],\n",
      "        [0.1000],\n",
      "        [5.0000],\n",
      "        [0.6921],\n",
      "        [0.5840],\n",
      "        [0.8191],\n",
      "        [0.7408],\n",
      "        [0.6801],\n",
      "        [0.6291],\n",
      "        [0.5850],\n",
      "        [0.6958],\n",
      "        [0.6598],\n",
      "        [0.6283],\n",
      "        [0.5999],\n",
      "        [0.6749],\n",
      "        [0.6506],\n",
      "        [0.6283],\n",
      "        [0.6886],\n",
      "        [0.6681],\n",
      "        [0.6497],\n",
      "        [0.6329],\n",
      "        [0.6797],\n",
      "        [0.6641],\n",
      "        [0.7086],\n",
      "        [5.0000],\n",
      "        [0.6929],\n",
      "        [0.6788],\n",
      "        [0.6667],\n",
      "        [0.7027],\n",
      "        [0.6900],\n",
      "        [0.6781],\n",
      "        [0.6673],\n",
      "        [0.6572],\n",
      "        [0.6477],\n",
      "        [0.6382],\n",
      "        [0.6291],\n",
      "        [0.6550],\n",
      "        [0.6802],\n",
      "        [0.6715],\n",
      "        [0.6964],\n",
      "        [0.7238],\n",
      "        [5.0000]])\n",
      "tensor([0., 1., 1., 1., 1., 1., 1., 1., 1., 1., 0., 1., 1., 0., 1., 1., 1., 1.,\n",
      "        0., 1., 1., 1., 0., 1., 1., 0., 1., 1., 1., 0., 1., 0., 1., 1., 1., 1.,\n",
      "        0., 1., 1., 1., 1., 1., 1., 1., 0., 0., 1., 0., 0., 1., 1.])\n"
     ]
    }
   ],
   "source": [
    "strat = serv._strats[-1]\n",
    "print(strat.x)\n",
    "print(strat.y)"
   ]
  },
  {
   "cell_type": "markdown",
   "metadata": {},
   "source": [
    "Since we passed `skip_computations = True` into the replay method before, we will have to manually refit the strategy's model:"
   ]
  },
  {
   "cell_type": "code",
   "execution_count": 18,
   "metadata": {},
   "outputs": [
    {
     "name": "stderr",
     "output_type": "stream",
     "text": [
      "2022-02-25 14:47:52,361 [INFO   ] Starting fit...\n",
      "2022-02-25 14:47:53,575 [INFO   ] Fit done, time=1.198071002960205\n"
     ]
    }
  ],
  "metadata": {
    "fileHeader": "",
    "fileUid": "8cc0a476-f94e-4750-90bd-8af3dc902024",
    "interpreter": {
      "hash": "445720f8fdcbba65d997174e9b6315f32a9c0fb7d8d99a631746a7b63e54ff16"
    },
    "isAdHoc": false,
    "kernelspec": {
      "display_name": "Python 3.9.7 64-bit",
      "name": "python3"
    },
    "language_info": {
      "codemirror_mode": {
        "name": "ipython",
        "version": 3
      },
      "file_extension": ".py",
      "mimetype": "text/x-python",
      "name": "python",
      "nbconvert_exporter": "python",
      "pygments_lexer": "ipython3",
      "version": "3.9.7"
    }
   ],
   "source": [
    "from aepsych.plotting import plot_strat\n",
    "plt.rcParams[\"figure.figsize\"] = (15,15)\n",
    "plt.rcParams['figure.facecolor'] = 'white'\n",
    "\n",
    "plot_strat(strat, xlabel='angle (degrees)', ylabel='Probability of Selecting Target', target_level=.75)"
   ]
  },
  {
   "cell_type": "markdown",
   "metadata": {},
   "source": [
    "In this plot, the blue and red ticks at the bottom represent angles at which the participant did and did not successfully identify the target, respectively. The dark blue curve represents the model's posterior probabilty that the participant would select the target, with 95% of the posterior mass lying in the shaded region. The orange horizontal line represents the participant's detection threshold, which once again is defined as the smallest angle at which the participant would select the target 75% of the time. If you are viewing the data from the example participant, you will see that their threshold is somewhere between about 0.5 and 1.5 degrees (note, however, that threshold estimation for non-monotonic models may not always be accurate; we are working on better algorithms for this). More data could be collected to reduce this uncertainty. If you collected data on your own data, your plot may look different; there are often large individual differences in psychophysics tasks. In any case you should see that most of the sampled points are near the estimated threshold; the level set estimation algorithm intelligently selects points so that time is not wasted collecting data at points far away from the threshold, allowing for a more accurate threshold estimate in fewer trials than traditional methods.\n",
    "\n",
    "## Conclusion\n",
    "\n",
    "This tutorial has shwown a complete example of how to conduct an AEPsych experiment and analyze the data. You can easily adapt this code for your own needs by changing the config string and the code that runs trials. If you need any help debugging or setting up your experiment, you can [open a GitHub issue](https://github.com/facebookresearch/aepsych/issues). You can also try conducting AEPsych experiments without writing any code, by running [this notebook](https://github.com/facebookresearch/aepsych/blob/main/examples/Interactive_AEPsych.ipynb)."
   ]
  }
 ],
 "metadata": {
    "interpreter": {
     "hash": "445720f8fdcbba65d997174e9b6315f32a9c0fb7d8d99a631746a7b63e54ff16"
    },
    "kernelspec": {
     "display_name": "Python 3.9.7 64-bit",
     "name": "python3"
    },
  "language_info": {
   "codemirror_mode": {
    "name": "ipython",
    "version": 3
   },
   "file_extension": ".py",
   "mimetype": "text/x-python",
   "name": "python",
   "nbconvert_exporter": "python",
   "pygments_lexer": "ipython3",
   "version": "3.9.7"
  }
}
